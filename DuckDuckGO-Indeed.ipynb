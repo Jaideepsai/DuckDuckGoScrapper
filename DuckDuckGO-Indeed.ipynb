{
 "cells": [
  {
   "cell_type": "code",
   "execution_count": 1,
   "metadata": {},
   "outputs": [],
   "source": [
    "try:\n",
    "    from urllib.parse import urlparse\n",
    "except ImportError:\n",
    "    from urlparse import urlparse\n",
    "    from urlparse import parse_qs\n",
    "import pandas as pd\n",
    "import numpy as np\n",
    "import sys  \n",
    "import time\n",
    "reload(sys)  \n",
    "sys.setdefaultencoding('utf8')"
   ]
  },
  {
   "cell_type": "code",
   "execution_count": 2,
   "metadata": {},
   "outputs": [
    {
     "data": {
      "text/plain": [
       "0        COVENANT TRANSPORTATION GRP\n",
       "1             CPI AEROSTRUCTURES INC\n",
       "2                 CVD EQUIPMENT CORP\n",
       "3                       CHEVRON CORP\n",
       "4                CURTISS-WRIGHT CORP\n",
       "5               COASTWAY BANCORP INC\n",
       "6          COMMUNITY WEST BANCSHARES\n",
       "7                         COHBAR INC\n",
       "8          CONSOLIDATED WATER CO INC\n",
       "9             CRIMSON WINE GROUP LTD\n",
       "10        CAMPING WORLD HOLDINGS INC\n",
       "11               CUSHMAN & WAKEFIELD\n",
       "12      CASELLA WASTE SYS INC� -CL A\n",
       "13       CALIFORNIA WATER SERVICE GP\n",
       "14                   CEMEX SAB DE CV\n",
       "15          CLEVELAND ELECTRIC ILLUM\n",
       "16          CHINA XD PLASTICS CO LTD\n",
       "17                      CREXENDO INC\n",
       "18              CONCHO RESOURCES INC\n",
       "19       COLUMBIA PROPERTY TRUST INC\n",
       "20      CONCORDIA INTERNATIONAL CORP\n",
       "21                     CORECIVIC INC\n",
       "22        CYPRESS SEMICONDUCTOR CORP\n",
       "23                         CELYAD SA\n",
       "24                    CYANOTECH CORP\n",
       "25                  CYBEROPTICS CORP\n",
       "26            CYBERFORT SOFTWARE INC\n",
       "27             CYBERARK SOFTWARE LTD\n",
       "28          CYCLACEL PHARMACEUTICALS\n",
       "29        CHINA YUCHAI INTERNATIONAL\n",
       "                    ...             \n",
       "5375      WISDOMTREE INVESTMENTS INC\n",
       "5376                         WEX INC\n",
       "5377                      WOORI BANK\n",
       "5378                WELLS FARGO & CO\n",
       "5379     WESTWOOD HOLDINGS GROUP INC\n",
       "5380        WILLIS TOWERS WATSON PLC\n",
       "5381        WILLIAM PENN BANCORP INC\n",
       "5382     WESTERN NEW ENG BANCORP INC\n",
       "5383       WEST SUBURBAN BANCORP INC\n",
       "5384      WASHINGTON PRIME GROUP INC\n",
       "5385              BERKLEY (W R) CORP\n",
       "5386                 WASHINGTON REIT\n",
       "5387         WEINGARTEN REALTY INVST\n",
       "5388        WORLD ACCEPTANCE CORP/DE\n",
       "5389                    WESBANCO INC\n",
       "5390        WATERSTONE FINANCIAL INC\n",
       "5391             WSFS FINANCIAL CORP\n",
       "5392                 WHITESTONE REIT\n",
       "5393         WEST BANCORPORATION INC\n",
       "5394            W T B FINANCIAL CORP\n",
       "5395         WINTRUST FINANCIAL CORP\n",
       "5396        WHITE MTNS INS GROUP LTD\n",
       "5397                WESTERN UNION CO\n",
       "5398              WVS FINANCIAL CORP\n",
       "5399        WYNDHAM DESTINATIONS INC\n",
       "5400            EXANTAS CAPITAL CORP\n",
       "5401      XENIA HOTELS & RESORTS INC\n",
       "5402                    XL GROUP LTD\n",
       "5403                  ALLEGHANY CORP\n",
       "5404            ZIONS BANCORPORATION\n",
       "Name: comp, Length: 5405, dtype: object"
      ]
     },
     "execution_count": 2,
     "metadata": {},
     "output_type": "execute_result"
    }
   ],
   "source": [
    "df=pd.read_csv(\"/Users/jaideep/Documents/compD.csv\")\n",
    "df[\"comp\"]"
   ]
  },
  {
   "cell_type": "code",
   "execution_count": null,
   "metadata": {},
   "outputs": [],
   "source": [
    "from bs4 import BeautifulSoup\n",
    "import requests\n",
    "e=[];f=[];\n",
    "for row in df.itertuples():\n",
    "    comp_name=str(row[1])\n",
    "#     com_name_cleaned=comp_name.replace(\" \",\"+\")\n",
    "    url='https://duckduckgo.com/html?q=' + comp_name +' indeed'\n",
    "    try:\n",
    "        time.sleep(np.random.randint(1,3))\n",
    "        r = requests.get(url)\n",
    "        soup = BeautifulSoup(r.text, 'html.parser')\n",
    "        for s in soup.find_all('a', href=True):\n",
    "            results = soup.find_all('a', attrs={'class':'result__a'}, href=True)\n",
    "#             results=s[href]\n",
    "#             type(results)\n",
    "            g=\"\";\n",
    "            for link in results:\n",
    "                url = link['href']\n",
    "                o = urlparse(url)\n",
    "                d = parse_qs(o.query)\n",
    "                if \"indeed.com/cmp/\" in str(d['uddg'][0]): \n",
    "                    f.append(comp_name)\n",
    "#                 if \"indeed.com/cmp/\" in d: \n",
    "                    g=str(d['uddg'][0])\n",
    "                    e.append(g)\n",
    "                    print g;\n",
    "                    break\n",
    "    except:\n",
    "        e.append(\"\");\n",
    "        f.append(comp_name)\n",
    "    df_list = pd.DataFrame(\n",
    "                {'comp': f,\n",
    "                 'url': e\n",
    "                })\n",
    "    df_list.to_csv(\"indeed_scrapper1.csv\", sep=',')"
   ]
  },
  {
   "cell_type": "code",
   "execution_count": 27,
   "metadata": {},
   "outputs": [],
   "source": [
    "# from lib.google_search_results import GoogleSearchResults\n",
    "# str1=\"facebook indeed\"\n",
    "# params = {\n",
    "#     \"q\" : str1\n",
    "# }\n",
    "# query = GoogleSearchResults(params)\n",
    "# dictionary_results = query.get_dictionary()\n",
    "        \n",
    "        \n",
    "        "
   ]
  },
  {
   "cell_type": "code",
   "execution_count": null,
   "metadata": {},
   "outputs": [],
   "source": [
    "# e=[];f=[];\n",
    "# for row in df.itertuples():\n",
    "#     comp_name=str(row[1])\n",
    "#     try:\n",
    "#         from lib.google_search_results import GoogleSearchResults\n",
    "#         str1=comp_name + \" indeed\"\n",
    "#         params = {\n",
    "#             \"q\" : str1\n",
    "#         }\n",
    "#         query = GoogleSearchResults(params)\n",
    "#         dictionary_results = query.get_dictionary()\n",
    "#         e.append(str(dictionary_results));\n",
    "#         f.append(comp_name)\n",
    "#     except:\n",
    "#         continue\n",
    "#     df_list = pd.DataFrame(\n",
    "#                 {'comp': f,\n",
    "#                  'url': e\n",
    "#                 })\n",
    "#     df_list.to_csv(\"indeed_scrapper.csv\", sep=',')"
   ]
  },
  {
   "cell_type": "code",
   "execution_count": 29,
   "metadata": {},
   "outputs": [
    {
     "data": {
      "text/plain": [
       "{u'answer_box': {u'type': u'unknow'},\n",
       " u'organic_results': [{u'cached_page_link': u'https://webcache.googleusercontent.com/search?q=cache:q887Za5lY7MJ:https://www.indeed.com/cmp/Facebook/jobs+&cd=1&hl=en&ct=clnk&gl=us',\n",
       "   u'date': u'999 jobs',\n",
       "   u'displayed_link': u'https://www.indeed.com/cmp/Facebook/jobs',\n",
       "   u'link': u'https://www.indeed.com/cmp/Facebook/jobs',\n",
       "   u'position': 1,\n",
       "   u'snippet': u'Facebook jobs. Research and apply at Indeed.com.',\n",
       "   u'title': u'Jobs at Facebook | Indeed.com'},\n",
       "  {u'cached_page_link': u'https://webcache.googleusercontent.com/search?q=cache:wDfwvXY4O74J:https://www.indeed.com/cmp/Facebook+&cd=2&hl=en&ct=clnk&gl=us',\n",
       "   u'displayed_link': u'https://www.indeed.com/cmp/Facebook',\n",
       "   u'link': u'https://www.indeed.com/cmp/Facebook',\n",
       "   u'position': 2,\n",
       "   u'sitelinks': {u'inline': [{u'link': u'https://www.indeed.com/cmp/Facebook/jobs',\n",
       "      u'title': u'1.7K Jobs'},\n",
       "     {u'link': u'https://www.indeed.com/cmp/Facebook/salaries',\n",
       "      u'title': u'5.4K Salaries'},\n",
       "     {u'link': u'https://www.indeed.com/cmp/Facebook/faq/hiring-process',\n",
       "      u'title': u'Questions and Answers about ...'}]},\n",
       "   u'snippet': u'Find out what works well at Facebook from the people who know best. Get the inside scoop on jobs, salaries, top office locations, and CEO insights. Compare\\xa0...',\n",
       "   u'title': u'Facebook Careers and Employment | Indeed.com'},\n",
       "  {u'cached_page_link': u'https://webcache.googleusercontent.com/search?q=cache:Sa4ORckCI4sJ:https://www.indeed.com/q-Facebook-jobs.html+&cd=3&hl=en&ct=clnk&gl=us',\n",
       "   u'displayed_link': u'https://www.indeed.com/q-Facebook-jobs.html',\n",
       "   u'link': u'https://www.indeed.com/q-Facebook-jobs.html',\n",
       "   u'position': 3,\n",
       "   u'snippet': u'1139 Facebook jobs available on Indeed.com. Apply to Operations Associate, Associate General Counsel, Helpdesk Specialist and more!',\n",
       "   u'title': u'Facebook Jobs, Employment | Indeed.com'},\n",
       "  {u'cached_page_link': u'https://webcache.googleusercontent.com/search?q=cache:jR40I-yk0pMJ:https://www.indeed.com/cmp/Facebook/reviews+&cd=4&hl=en&ct=clnk&gl=us',\n",
       "   u'displayed_link': u'https://www.indeed.com/cmp/Facebook/reviews',\n",
       "   u'link': u'https://www.indeed.com/cmp/Facebook/reviews',\n",
       "   u'position': 4,\n",
       "   u'rich_snippet': {u'top': {u'detected_extensions': {u'rating': 4.2},\n",
       "     u'extensions': [u'Rating: 4.2', u'383 reviews']}},\n",
       "   u'snippet': u'272 reviews from Facebook employees about Facebook culture, salaries, benefits, work-life balance, management, job security, and more.',\n",
       "   u'title': u'Working at Facebook: 272 Reviews | Indeed.com'},\n",
       "  {u'displayed_link': u'https://www.facebook.com/Indeed/',\n",
       "   u'link': u'https://www.facebook.com/Indeed/',\n",
       "   u'position': 5,\n",
       "   u'related_pages_link': u'https://www.google.com/search?q=related:https://www.facebook.com/Indeed/+facebook+indeed&tbo=1&sa=X&ved=2ahUKEwjV3dfP7YPeAhUPUt8KHbHyCScQHzAEegQICxAE',\n",
       "   u'snippet': u\"Indeed. 1716425 likes \\xb7 39754 talking about this. Indeed is the world's #1 job site. More people find jobs on Indeed than anywhere else.\",\n",
       "   u'title': u'Indeed - Home | Facebook'},\n",
       "  {u'displayed_link': u'https://www.facebook.com/Indeed.co.in/',\n",
       "   u'link': u'https://www.facebook.com/Indeed.co.in/',\n",
       "   u'position': 6,\n",
       "   u'related_pages_link': u'https://www.google.com/search?q=related:https://www.facebook.com/Indeed.co.in/+facebook+indeed&tbo=1&sa=X&ved=2ahUKEwjV3dfP7YPeAhUPUt8KHbHyCScQHzANegQIAxAE',\n",
       "   u'snippet': u\"Indeed. 1716327 likes \\xb7 398 talking about this. Indeed is the world's #1 job site. More people find jobs on Indeed than anywhere else.\",\n",
       "   u'title': u'Indeed - Website | Facebook - 97 Photos'},\n",
       "  {u'displayed_link': u'https://www.facebook.com/InsideIndeed/',\n",
       "   u'link': u'https://www.facebook.com/InsideIndeed/',\n",
       "   u'position': 7,\n",
       "   u'related_pages_link': u'https://www.google.com/search?q=related:https://www.facebook.com/InsideIndeed/+facebook+indeed&tbo=1&sa=X&ved=2ahUKEwjV3dfP7YPeAhUPUt8KHbHyCScQHzAOegQIAhAE',\n",
       "   u'snippet': u\"Inside Indeed. 8568 likes \\xb7 2859 talking about this. Indeed works when talented, passionate people come together. Come work for the world's No. 1 job...\",\n",
       "   u'title': u'Inside Indeed - Internet Company | Facebook - 988 Photos'},\n",
       "  {u'cached_page_link': u'http://webcache.googleusercontent.com/search?q=cache:ImleoqQlsZ8J:fortune.com/2018/07/12/best-company-to-work-for-indeed/+&cd=16&hl=en&ct=clnk&gl=us',\n",
       "   u'date': u'Jul 12, 2018',\n",
       "   u'displayed_link': u'fortune.com \\u203a Briefing \\u203a Facebook',\n",
       "   u'link': u'http://fortune.com/2018/07/12/best-company-to-work-for-indeed/',\n",
       "   u'position': 8,\n",
       "   u'snippet': u'Facebook Inc. was ranked as best place to work in 2018, according to Indeed.',\n",
       "   u'title': u'Facebook Named Best Company to Work For in the U.S. by Indeed ...'},\n",
       "  {u'cached_page_link': u'https://webcache.googleusercontent.com/search?q=cache:F4MkyjMNRRYJ:https://www.bizjournals.com/austin/news/2018/08/28/keller-williams-heb-facebook-others-named-top.html+&cd=17&hl=en&ct=clnk&gl=us',\n",
       "   u'date': u'Aug 28, 2018',\n",
       "   u'displayed_link': u'https://www.bizjournals.com/.../keller-williams-heb-facebook-others-named-top.html',\n",
       "   u'link': u'https://www.bizjournals.com/austin/news/2018/08/28/keller-williams-heb-facebook-others-named-top.html',\n",
       "   u'position': 9,\n",
       "   u'snippet': u'Indeed has a new list of the top-rated Austin workplaces with recent job ... HEB, Facebook, others named top Austin workplaces by Indeed.',\n",
       "   u'title': u'Keller Williams, HEB, others named top Austin workplaces by Indeed ...'},\n",
       "  {u'date': u'Jul 12, 2018',\n",
       "   u'displayed_link': u'https://www.inc.com/.../facebook-southwest-delta-apple-starbucks-among-50-best-places...',\n",
       "   u'link': u'https://www.inc.com/peter-economy/facebook-southwest-delta-apple-starbucks-among-50-best-places-to-work-in-2018.html',\n",
       "   u'position': 10,\n",
       "   u'snippet': u'According to job site Indeed.com, these are the best of the best places to work for in 2018. Is your company on the list?',\n",
       "   u'title': u'Facebook, Southwest, Delta, Apple, and Starbucks Among 50 Best ...'}],\n",
       " u'pagination': {u'current': 1,\n",
       "  u'next': u'https://www.google.com/search?q=facebook+indeed&ei=0B_CW9W1KY-k_Qax5ae4Ag&start=10&sa=N',\n",
       "  u'other_pages': {u'10': u'https://www.google.com/search?q=facebook+indeed&ei=0B_CW9W1KY-k_Qax5ae4Ag&start=90&sa=N',\n",
       "   u'2': u'https://www.google.com/search?q=facebook+indeed&ei=0B_CW9W1KY-k_Qax5ae4Ag&start=10&sa=N',\n",
       "   u'3': u'https://www.google.com/search?q=facebook+indeed&ei=0B_CW9W1KY-k_Qax5ae4Ag&start=20&sa=N',\n",
       "   u'4': u'https://www.google.com/search?q=facebook+indeed&ei=0B_CW9W1KY-k_Qax5ae4Ag&start=30&sa=N',\n",
       "   u'5': u'https://www.google.com/search?q=facebook+indeed&ei=0B_CW9W1KY-k_Qax5ae4Ag&start=40&sa=N',\n",
       "   u'6': u'https://www.google.com/search?q=facebook+indeed&ei=0B_CW9W1KY-k_Qax5ae4Ag&start=50&sa=N',\n",
       "   u'7': u'https://www.google.com/search?q=facebook+indeed&ei=0B_CW9W1KY-k_Qax5ae4Ag&start=60&sa=N',\n",
       "   u'8': u'https://www.google.com/search?q=facebook+indeed&ei=0B_CW9W1KY-k_Qax5ae4Ag&start=70&sa=N',\n",
       "   u'9': u'https://www.google.com/search?q=facebook+indeed&ei=0B_CW9W1KY-k_Qax5ae4Ag&start=80&sa=N'}},\n",
       " u'related_questions': [],\n",
       " u'related_searches': [{u'link': u'https://www.google.com/search?q=indeed+login&sa=X&ved=0ahUKEwjV3dfP7YPeAhUPUt8KHbHyCScQ1QIIpQEoAA',\n",
       "   u'query': u'indeed login'},\n",
       "  {u'link': u'https://www.google.com/search?q=indeed+vacancies&sa=X&ved=0ahUKEwjV3dfP7YPeAhUPUt8KHbHyCScQ1QIIpgEoAQ',\n",
       "   u'query': u'indeed vacancies'},\n",
       "  {u'link': u'https://www.google.com/search?q=facebook+jobs&sa=X&ved=0ahUKEwjV3dfP7YPeAhUPUt8KHbHyCScQ1QIIpwEoAg',\n",
       "   u'query': u'facebook jobs'},\n",
       "  {u'link': u'https://www.google.com/search?q=indeed+company&sa=X&ved=0ahUKEwjV3dfP7YPeAhUPUt8KHbHyCScQ1QIIqAEoAw',\n",
       "   u'query': u'indeed company'},\n",
       "  {u'link': u'https://www.google.com/search?q=facebook+jobs+from+home&sa=X&ved=0ahUKEwjV3dfP7YPeAhUPUt8KHbHyCScQ1QIIqQEoBA',\n",
       "   u'query': u'facebook jobs from home'},\n",
       "  {u'link': u'https://www.google.com/search?q=indeed+trends&sa=X&ved=0ahUKEwjV3dfP7YPeAhUPUt8KHbHyCScQ1QIIqgEoBQ',\n",
       "   u'query': u'indeed trends'},\n",
       "  {u'link': u'https://www.google.com/search?q=indeed+app&sa=X&ved=0ahUKEwjV3dfP7YPeAhUPUt8KHbHyCScQ1QIIqwEoBg',\n",
       "   u'query': u'indeed app'},\n",
       "  {u'link': u'https://www.google.com/search?q=indeed+switzerland&sa=X&ved=0ahUKEwjV3dfP7YPeAhUPUt8KHbHyCScQ1QIIrAEoBw',\n",
       "   u'query': u'indeed switzerland'}],\n",
       " u'search_information': {u'query_displayed': u'facebook indeed',\n",
       "  u'time_taken_displayed': 0.4,\n",
       "  u'total_results': 489000000},\n",
       " u'search_metadata': {u'created_at': u'2018-10-13 16:39:42 UTC',\n",
       "  u'google_url': u'https://www.google.com/search?q=facebook+indeed&oq=facebook+indeed&sourceid=chrome&ie=UTF-8',\n",
       "  u'id': u'5bc21fce67ccdc7926b83fc2',\n",
       "  u'processed_at': u'2018-10-13 16:39:42 UTC',\n",
       "  u'status': u'Success',\n",
       "  u'total_time_taken': 3.0},\n",
       " u'search_parameters': {u'device': u'desktop',\n",
       "  u'google_domain': u'google.com',\n",
       "  u'query': u'facebook indeed'}}"
      ]
     },
     "execution_count": 29,
     "metadata": {},
     "output_type": "execute_result"
    }
   ],
   "source": [
    "dictionary_results"
   ]
  },
  {
   "cell_type": "code",
   "execution_count": 28,
   "metadata": {},
   "outputs": [
    {
     "ename": "TypeError",
     "evalue": "'str' object is not callable",
     "output_type": "error",
     "traceback": [
      "\u001b[0;31m---------------------------------------------------------------------------\u001b[0m",
      "\u001b[0;31mTypeError\u001b[0m                                 Traceback (most recent call last)",
      "\u001b[0;32m<ipython-input-28-fcf42bf003b8>\u001b[0m in \u001b[0;36m<module>\u001b[0;34m()\u001b[0m\n\u001b[0;32m----> 1\u001b[0;31m \u001b[0mstr\u001b[0m\u001b[0;34m(\u001b[0m\u001b[0mdictionary_results\u001b[0m\u001b[0;34m[\u001b[0m\u001b[0;34m'organic_results'\u001b[0m\u001b[0;34m]\u001b[0m\u001b[0;34m[\u001b[0m\u001b[0;36m0\u001b[0m\u001b[0;34m]\u001b[0m\u001b[0;34m[\u001b[0m\u001b[0;34m'displayed_link'\u001b[0m\u001b[0;34m]\u001b[0m\u001b[0;34m)\u001b[0m\u001b[0;34m\u001b[0m\u001b[0m\n\u001b[0m",
      "\u001b[0;31mTypeError\u001b[0m: 'str' object is not callable"
     ]
    }
   ],
   "source": [
    "# str(dictionary_results['organic_results'][0]['displayed_link'])"
   ]
  },
  {
   "cell_type": "code",
   "execution_count": 26,
   "metadata": {},
   "outputs": [
    {
     "data": {
      "text/plain": [
       "dict"
      ]
     },
     "execution_count": 26,
     "metadata": {},
     "output_type": "execute_result"
    }
   ],
   "source": [
    "# type(params)"
   ]
  },
  {
   "cell_type": "code",
   "execution_count": null,
   "metadata": {},
   "outputs": [],
   "source": [
    "# f"
   ]
  },
  {
   "cell_type": "code",
   "execution_count": null,
   "metadata": {},
   "outputs": [],
   "source": []
  }
 ],
 "metadata": {
  "kernelspec": {
   "display_name": "Python 2",
   "language": "python",
   "name": "python2"
  },
  "language_info": {
   "codemirror_mode": {
    "name": "ipython",
    "version": 2
   },
   "file_extension": ".py",
   "mimetype": "text/x-python",
   "name": "python",
   "nbconvert_exporter": "python",
   "pygments_lexer": "ipython2",
   "version": "2.7.14"
  },
  "widgets": {
   "state": {},
   "version": "1.1.2"
  }
 },
 "nbformat": 4,
 "nbformat_minor": 2
}
